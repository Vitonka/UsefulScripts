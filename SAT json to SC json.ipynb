{
 "cells": [
  {
   "cell_type": "code",
   "execution_count": 1,
   "metadata": {},
   "outputs": [],
   "source": [
    "import json\n",
    "\n",
    "captions = {}\n",
    "with open('/mnt/disks/disk1/COCO/dataset_coco.json') as f:\n",
    "    captions = json.load(f)"
   ]
  },
  {
   "cell_type": "code",
   "execution_count": 15,
   "metadata": {},
   "outputs": [
    {
     "name": "stdout",
     "output_type": "stream",
     "text": [
      "[5 2 4]\n"
     ]
    }
   ],
   "source": [
    "import numpy as np\n",
    "\n",
    "a = [1, 2, 3, 4, 5]\n",
    "print (np.random.choice(a, 3, replace=False))"
   ]
  },
  {
   "cell_type": "code",
   "execution_count": 17,
   "metadata": {},
   "outputs": [],
   "source": [
    "with open('/mnt/disks/disk1/COCO/dataset_coco_synonyms.json') as f:\n",
    "    captions = json.load(f)\n",
    "    for image in captions['images']:\n",
    "        if len(image['sentences']) > 5:\n",
    "            image['sentences'] = list(np.random.choice(image['sentences'], 5, replace=False))\n",
    "    with open('/mnt/disks/disk1/COCO/dataset_coco_synonyms_mini.json', 'w') as new_f:\n",
    "        new_f.write(json.dumps(captions))"
   ]
  },
  {
   "cell_type": "code",
   "execution_count": 19,
   "metadata": {},
   "outputs": [],
   "source": [
    "with open('/mnt/disks/disk1/COCO/dataset_coco_synonyms_bert.json') as f:\n",
    "    captions = json.load(f)\n",
    "    for image in captions['images']:\n",
    "        if len(image['sentences']) > 5:\n",
    "            image['sentences'] = list(np.random.choice(image['sentences'], 5, replace=False))\n",
    "    with open('/mnt/disks/disk1/COCO/dataset_coco_synonyms_bert_mini.json', 'w') as new_f:\n",
    "        new_f.write(json.dumps(captions))"
   ]
  },
  {
   "cell_type": "code",
   "execution_count": null,
   "metadata": {},
   "outputs": [],
   "source": []
  }
 ],
 "metadata": {
  "kernelspec": {
   "display_name": "Python 3",
   "language": "python",
   "name": "python3"
  },
  "language_info": {
   "codemirror_mode": {
    "name": "ipython",
    "version": 3
   },
   "file_extension": ".py",
   "mimetype": "text/x-python",
   "name": "python",
   "nbconvert_exporter": "python",
   "pygments_lexer": "ipython3",
   "version": "3.7.4"
  }
 },
 "nbformat": 4,
 "nbformat_minor": 2
}
