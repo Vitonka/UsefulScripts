{
 "cells": [
  {
   "cell_type": "code",
   "execution_count": 7,
   "metadata": {},
   "outputs": [],
   "source": [
    "import json\n",
    "\n",
    "captions = {}\n",
    "with open('/mnt/disks/disk1/COCO/dataset_coco_synonyms_bert.json') as f:\n",
    "    captions = json.load(f)"
   ]
  },
  {
   "cell_type": "code",
   "execution_count": 8,
   "metadata": {},
   "outputs": [
    {
     "name": "stdout",
     "output_type": "stream",
     "text": [
      "dict_keys(['images', 'dataset'])\n",
      "<class 'str'>\n",
      "coco\n",
      "<class 'list'>\n",
      "<class 'dict'>\n"
     ]
    }
   ],
   "source": [
    "print (captions.keys())\n",
    "print (type(captions['dataset']))\n",
    "print (captions['dataset'])\n",
    "print (type(captions['images']))    \n",
    "print (type(captions['images'][0]))"
   ]
  },
  {
   "cell_type": "code",
   "execution_count": 9,
   "metadata": {},
   "outputs": [
    {
     "name": "stdout",
     "output_type": "stream",
     "text": [
      "dict_keys(['filepath', 'sentids', 'filename', 'imgid', 'split', 'sentences', 'cocoid'])\n",
      "<class 'str'>\n",
      "val2014\n",
      "<class 'list'>\n",
      "<class 'int'>\n",
      "770337\n",
      "<class 'str'>\n",
      "COCO_val2014_000000391895.jpg\n",
      "<class 'int'>\n",
      "0\n",
      "<class 'str'>\n",
      "test\n",
      "<class 'list'>\n",
      "<class 'dict'>\n",
      "<class 'int'>\n",
      "391895\n"
     ]
    }
   ],
   "source": [
    "image = captions['images'][0]\n",
    "print (image.keys())\n",
    "print (type(image['filepath']))\n",
    "print (image['filepath'])\n",
    "print (type(image['sentids']))\n",
    "print (type(image['sentids'][0]))\n",
    "print (image['sentids'][0])\n",
    "print (type(image['filename']))\n",
    "print (image['filename'])\n",
    "print (type(image['imgid']))\n",
    "print (image['imgid'])\n",
    "print (type(image['split']))\n",
    "print (image['split'])\n",
    "print (type(image['sentences']))\n",
    "print (type(image['sentences'][0]))\n",
    "print (type(image['cocoid']))\n",
    "print (image['cocoid'])"
   ]
  },
  {
   "cell_type": "code",
   "execution_count": 10,
   "metadata": {},
   "outputs": [
    {
     "name": "stdout",
     "output_type": "stream",
     "text": [
      "dict_keys(['tokens', 'raw', 'imgid', 'sentid'])\n",
      "<class 'list'>\n",
      "<class 'str'>\n",
      "a\n",
      "<class 'str'>\n",
      "A man with a red helmet on a small moped on a dirt road. \n",
      "<class 'int'>\n",
      "0\n",
      "<class 'int'>\n",
      "770337\n"
     ]
    }
   ],
   "source": [
    "sentence = image['sentences'][0]\n",
    "print (sentence.keys())\n",
    "print (type(sentence['tokens']))\n",
    "print (type(sentence['tokens'][0]))\n",
    "print (sentence['tokens'][0])\n",
    "print (type(sentence['raw']))\n",
    "print (sentence['raw'])\n",
    "print (type(sentence['imgid']))\n",
    "print (sentence['imgid'])\n",
    "print (type(sentence['sentid']))\n",
    "print (sentence['sentid'])"
   ]
  },
  {
   "cell_type": "code",
   "execution_count": 11,
   "metadata": {},
   "outputs": [
    {
     "name": "stdout",
     "output_type": "stream",
     "text": [
      "A man with a red helmet on a small moped on a dirt road. \n",
      "Man riding a motor bike on a dirt road on the countryside.\n",
      "A man riding on the back of a motorcycle.\n",
      "A dirt path with a young person on a motor bike rests to the foreground of a verdant area with a bridge and a background of cloud-wreathed mountains. \n",
      "A man in a red shirt and a red hat is on a motorcycle on a hill side.\n"
     ]
    }
   ],
   "source": [
    "for sentence in image['sentences']:\n",
    "    print (sentence['raw'])"
   ]
  },
  {
   "cell_type": "code",
   "execution_count": 6,
   "metadata": {},
   "outputs": [],
   "source": [
    "import nlpaug"
   ]
  },
  {
   "cell_type": "code",
   "execution_count": 8,
   "metadata": {},
   "outputs": [],
   "source": [
    "import os\n",
    "os.environ[\"MODEL_DIR\"] = '../nlpaug/model'"
   ]
  },
  {
   "cell_type": "code",
   "execution_count": 9,
   "metadata": {},
   "outputs": [
    {
     "ename": "ModuleNotFoundError",
     "evalue": "No module named 'nlpaug.augmenter'",
     "output_type": "error",
     "traceback": [
      "\u001b[0;31m---------------------------------------------------------------------------\u001b[0m",
      "\u001b[0;31mModuleNotFoundError\u001b[0m                       Traceback (most recent call last)",
      "\u001b[0;32m<ipython-input-9-0d207e19e644>\u001b[0m in \u001b[0;36m<module>\u001b[0;34m\u001b[0m\n\u001b[0;32m----> 1\u001b[0;31m \u001b[0;32mimport\u001b[0m \u001b[0mnlpaug\u001b[0m\u001b[0;34m.\u001b[0m\u001b[0maugmenter\u001b[0m\u001b[0;34m.\u001b[0m\u001b[0mword\u001b[0m \u001b[0;32mas\u001b[0m \u001b[0mnaw\u001b[0m\u001b[0;34m\u001b[0m\u001b[0;34m\u001b[0m\u001b[0m\n\u001b[0m",
      "\u001b[0;31mModuleNotFoundError\u001b[0m: No module named 'nlpaug.augmenter'"
     ]
    }
   ],
   "source": [
    "import nlpaug.augmenter.word as naw"
   ]
  },
  {
   "cell_type": "code",
   "execution_count": 12,
   "metadata": {},
   "outputs": [
    {
     "name": "stdout",
     "output_type": "stream",
     "text": [
      "['__doc__', '__file__', '__loader__', '__name__', '__package__', '__path__', '__spec__']\n"
     ]
    }
   ],
   "source": [
    "print (dir(nlpaug))"
   ]
  },
  {
   "cell_type": "code",
   "execution_count": null,
   "metadata": {},
   "outputs": [],
   "source": []
  }
 ],
 "metadata": {
  "kernelspec": {
   "display_name": "Python 3",
   "language": "python",
   "name": "python3"
  },
  "language_info": {
   "codemirror_mode": {
    "name": "ipython",
    "version": 3
   },
   "file_extension": ".py",
   "mimetype": "text/x-python",
   "name": "python",
   "nbconvert_exporter": "python",
   "pygments_lexer": "ipython3",
   "version": "3.7.4"
  }
 },
 "nbformat": 4,
 "nbformat_minor": 2
}
